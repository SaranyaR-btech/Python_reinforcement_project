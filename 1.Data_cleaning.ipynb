{
 "cells": [
  {
   "cell_type": "code",
   "execution_count": 1,
   "id": "18b3bd5f-ee30-4e53-9f05-f0f87fd0eed5",
   "metadata": {},
   "outputs": [],
   "source": [
    "import pandas as pd"
   ]
  },
  {
   "cell_type": "code",
   "execution_count": 2,
   "id": "fbdafa33-11b2-4a2d-aa77-758f0eab66e9",
   "metadata": {},
   "outputs": [],
   "source": [
    "df=pd.read_csv('house.csv')"
   ]
  },
  {
   "cell_type": "markdown",
   "id": "f054f28b-c629-4730-a541-b16feda28ae5",
   "metadata": {},
   "source": [
    "             "
   ]
  },
  {
   "cell_type": "markdown",
   "id": "4d4f7972-d462-40e1-ac60-5bffae0c4e2d",
   "metadata": {},
   "source": [
    "                                                         INFORMATION ABOUT DATA"
   ]
  },
  {
   "cell_type": "markdown",
   "id": "4239faf7-4613-44dc-908f-23448a8b3f04",
   "metadata": {},
   "source": [
    "        "
   ]
  },
  {
   "cell_type": "code",
   "execution_count": 3,
   "id": "2e7851b1-fb39-48bc-8c3e-effc6c215e93",
   "metadata": {},
   "outputs": [
    {
     "data": {
      "text/html": [
       "<div>\n",
       "<style scoped>\n",
       "    .dataframe tbody tr th:only-of-type {\n",
       "        vertical-align: middle;\n",
       "    }\n",
       "\n",
       "    .dataframe tbody tr th {\n",
       "        vertical-align: top;\n",
       "    }\n",
       "\n",
       "    .dataframe thead th {\n",
       "        text-align: right;\n",
       "    }\n",
       "</style>\n",
       "<table border=\"1\" class=\"dataframe\">\n",
       "  <thead>\n",
       "    <tr style=\"text-align: right;\">\n",
       "      <th></th>\n",
       "      <th>date</th>\n",
       "      <th>price</th>\n",
       "      <th>bedrooms</th>\n",
       "      <th>bathrooms</th>\n",
       "      <th>sqft_living</th>\n",
       "      <th>sqft_lot</th>\n",
       "      <th>floors</th>\n",
       "      <th>waterfront</th>\n",
       "      <th>view</th>\n",
       "      <th>condition</th>\n",
       "      <th>sqft_above</th>\n",
       "      <th>sqft_basement</th>\n",
       "      <th>yr_built</th>\n",
       "      <th>yr_renovated</th>\n",
       "      <th>street</th>\n",
       "      <th>city</th>\n",
       "      <th>statezip</th>\n",
       "      <th>country</th>\n",
       "    </tr>\n",
       "  </thead>\n",
       "  <tbody>\n",
       "    <tr>\n",
       "      <th>0</th>\n",
       "      <td>02/05/2014 0:00</td>\n",
       "      <td>313000.0</td>\n",
       "      <td>3</td>\n",
       "      <td>1.50</td>\n",
       "      <td>1340.0</td>\n",
       "      <td>NaN</td>\n",
       "      <td>1.5</td>\n",
       "      <td>0</td>\n",
       "      <td>0</td>\n",
       "      <td>3</td>\n",
       "      <td>1340</td>\n",
       "      <td>0</td>\n",
       "      <td>1955.0</td>\n",
       "      <td>2005</td>\n",
       "      <td>18810 Densmore Ave N</td>\n",
       "      <td>Shoreline</td>\n",
       "      <td>WA 98133</td>\n",
       "      <td>USA</td>\n",
       "    </tr>\n",
       "    <tr>\n",
       "      <th>1</th>\n",
       "      <td>02/05/2014 0:00</td>\n",
       "      <td>2384000.0</td>\n",
       "      <td>5</td>\n",
       "      <td>2.50</td>\n",
       "      <td>3650.0</td>\n",
       "      <td>NaN</td>\n",
       "      <td>2.0</td>\n",
       "      <td>0</td>\n",
       "      <td>4</td>\n",
       "      <td>5</td>\n",
       "      <td>3370</td>\n",
       "      <td>280</td>\n",
       "      <td>1921.0</td>\n",
       "      <td>0</td>\n",
       "      <td>709 W Blaine St</td>\n",
       "      <td>Seattle</td>\n",
       "      <td>WA 98119</td>\n",
       "      <td>USA</td>\n",
       "    </tr>\n",
       "    <tr>\n",
       "      <th>2</th>\n",
       "      <td>02/05/2014 0:00</td>\n",
       "      <td>342000.0</td>\n",
       "      <td>3</td>\n",
       "      <td>2.00</td>\n",
       "      <td>1930.0</td>\n",
       "      <td>NaN</td>\n",
       "      <td>1.0</td>\n",
       "      <td>0</td>\n",
       "      <td>0</td>\n",
       "      <td>4</td>\n",
       "      <td>1930</td>\n",
       "      <td>0</td>\n",
       "      <td>1966.0</td>\n",
       "      <td>0</td>\n",
       "      <td>26206-26214 143rd Ave SE</td>\n",
       "      <td>Kent</td>\n",
       "      <td>WA 98042</td>\n",
       "      <td>USA</td>\n",
       "    </tr>\n",
       "    <tr>\n",
       "      <th>3</th>\n",
       "      <td>02/05/2014 0:00</td>\n",
       "      <td>420000.0</td>\n",
       "      <td>3</td>\n",
       "      <td>2.25</td>\n",
       "      <td>2000.0</td>\n",
       "      <td>NaN</td>\n",
       "      <td>1.0</td>\n",
       "      <td>0</td>\n",
       "      <td>0</td>\n",
       "      <td>4</td>\n",
       "      <td>1000</td>\n",
       "      <td>1000</td>\n",
       "      <td>1963.0</td>\n",
       "      <td>0</td>\n",
       "      <td>857 170th Pl NE</td>\n",
       "      <td>Bellevue</td>\n",
       "      <td>WA 98008</td>\n",
       "      <td>USA</td>\n",
       "    </tr>\n",
       "    <tr>\n",
       "      <th>4</th>\n",
       "      <td>02/05/2014 0:00</td>\n",
       "      <td>550000.0</td>\n",
       "      <td>4</td>\n",
       "      <td>2.50</td>\n",
       "      <td>1940.0</td>\n",
       "      <td>NaN</td>\n",
       "      <td>1.0</td>\n",
       "      <td>0</td>\n",
       "      <td>0</td>\n",
       "      <td>4</td>\n",
       "      <td>1140</td>\n",
       "      <td>800</td>\n",
       "      <td>1976.0</td>\n",
       "      <td>1992</td>\n",
       "      <td>9105 170th Ave NE</td>\n",
       "      <td>Redmond</td>\n",
       "      <td>WA 98052</td>\n",
       "      <td>USA</td>\n",
       "    </tr>\n",
       "    <tr>\n",
       "      <th>5</th>\n",
       "      <td>02/05/2014 0:00</td>\n",
       "      <td>490000.0</td>\n",
       "      <td>2</td>\n",
       "      <td>1.00</td>\n",
       "      <td>880.0</td>\n",
       "      <td>NaN</td>\n",
       "      <td>1.0</td>\n",
       "      <td>0</td>\n",
       "      <td>0</td>\n",
       "      <td>3</td>\n",
       "      <td>880</td>\n",
       "      <td>0</td>\n",
       "      <td>1938.0</td>\n",
       "      <td>1994</td>\n",
       "      <td>522 NE 88th St</td>\n",
       "      <td>Seattle</td>\n",
       "      <td>WA 98115</td>\n",
       "      <td>USA</td>\n",
       "    </tr>\n",
       "    <tr>\n",
       "      <th>6</th>\n",
       "      <td>02/05/2014 0:00</td>\n",
       "      <td>335000.0</td>\n",
       "      <td>2</td>\n",
       "      <td>2.00</td>\n",
       "      <td>1350.0</td>\n",
       "      <td>NaN</td>\n",
       "      <td>1.0</td>\n",
       "      <td>0</td>\n",
       "      <td>0</td>\n",
       "      <td>3</td>\n",
       "      <td>1350</td>\n",
       "      <td>0</td>\n",
       "      <td>1976.0</td>\n",
       "      <td>0</td>\n",
       "      <td>2616 174th Ave NE</td>\n",
       "      <td>Redmond</td>\n",
       "      <td>WA 98052</td>\n",
       "      <td>USA</td>\n",
       "    </tr>\n",
       "    <tr>\n",
       "      <th>7</th>\n",
       "      <td>02/05/2014 0:00</td>\n",
       "      <td>482000.0</td>\n",
       "      <td>4</td>\n",
       "      <td>2.50</td>\n",
       "      <td>2710.0</td>\n",
       "      <td>NaN</td>\n",
       "      <td>2.0</td>\n",
       "      <td>0</td>\n",
       "      <td>0</td>\n",
       "      <td>3</td>\n",
       "      <td>2710</td>\n",
       "      <td>0</td>\n",
       "      <td>1989.0</td>\n",
       "      <td>0</td>\n",
       "      <td>23762 SE 253rd Pl</td>\n",
       "      <td>Maple Valley</td>\n",
       "      <td>WA 98038</td>\n",
       "      <td>USA</td>\n",
       "    </tr>\n",
       "    <tr>\n",
       "      <th>8</th>\n",
       "      <td>02/05/2014 0:00</td>\n",
       "      <td>10000000.0</td>\n",
       "      <td>3</td>\n",
       "      <td>2.50</td>\n",
       "      <td>2430.0</td>\n",
       "      <td>NaN</td>\n",
       "      <td>1.0</td>\n",
       "      <td>0</td>\n",
       "      <td>0</td>\n",
       "      <td>4</td>\n",
       "      <td>1570</td>\n",
       "      <td>860</td>\n",
       "      <td>1985.0</td>\n",
       "      <td>0</td>\n",
       "      <td>46611-46625 SE 129th St</td>\n",
       "      <td>North Bend</td>\n",
       "      <td>WA 98045</td>\n",
       "      <td>USA</td>\n",
       "    </tr>\n",
       "    <tr>\n",
       "      <th>9</th>\n",
       "      <td>02/05/2014 0:00</td>\n",
       "      <td>640000.0</td>\n",
       "      <td>4</td>\n",
       "      <td>2.00</td>\n",
       "      <td>1520.0</td>\n",
       "      <td>NaN</td>\n",
       "      <td>1.5</td>\n",
       "      <td>0</td>\n",
       "      <td>0</td>\n",
       "      <td>3</td>\n",
       "      <td>1520</td>\n",
       "      <td>0</td>\n",
       "      <td>1945.0</td>\n",
       "      <td>2010</td>\n",
       "      <td>6811 55th Ave NE</td>\n",
       "      <td>Seattle</td>\n",
       "      <td>WA 98115</td>\n",
       "      <td>USA</td>\n",
       "    </tr>\n",
       "  </tbody>\n",
       "</table>\n",
       "</div>"
      ],
      "text/plain": [
       "              date       price  bedrooms  bathrooms  sqft_living  sqft_lot  \\\n",
       "0  02/05/2014 0:00    313000.0         3       1.50       1340.0       NaN   \n",
       "1  02/05/2014 0:00   2384000.0         5       2.50       3650.0       NaN   \n",
       "2  02/05/2014 0:00    342000.0         3       2.00       1930.0       NaN   \n",
       "3  02/05/2014 0:00    420000.0         3       2.25       2000.0       NaN   \n",
       "4  02/05/2014 0:00    550000.0         4       2.50       1940.0       NaN   \n",
       "5  02/05/2014 0:00    490000.0         2       1.00        880.0       NaN   \n",
       "6  02/05/2014 0:00    335000.0         2       2.00       1350.0       NaN   \n",
       "7  02/05/2014 0:00    482000.0         4       2.50       2710.0       NaN   \n",
       "8  02/05/2014 0:00  10000000.0         3       2.50       2430.0       NaN   \n",
       "9  02/05/2014 0:00    640000.0         4       2.00       1520.0       NaN   \n",
       "\n",
       "   floors  waterfront  view  condition  sqft_above  sqft_basement  yr_built  \\\n",
       "0     1.5           0     0          3        1340              0    1955.0   \n",
       "1     2.0           0     4          5        3370            280    1921.0   \n",
       "2     1.0           0     0          4        1930              0    1966.0   \n",
       "3     1.0           0     0          4        1000           1000    1963.0   \n",
       "4     1.0           0     0          4        1140            800    1976.0   \n",
       "5     1.0           0     0          3         880              0    1938.0   \n",
       "6     1.0           0     0          3        1350              0    1976.0   \n",
       "7     2.0           0     0          3        2710              0    1989.0   \n",
       "8     1.0           0     0          4        1570            860    1985.0   \n",
       "9     1.5           0     0          3        1520              0    1945.0   \n",
       "\n",
       "   yr_renovated                    street          city  statezip country  \n",
       "0          2005      18810 Densmore Ave N     Shoreline  WA 98133     USA  \n",
       "1             0           709 W Blaine St       Seattle  WA 98119     USA  \n",
       "2             0  26206-26214 143rd Ave SE          Kent  WA 98042     USA  \n",
       "3             0           857 170th Pl NE      Bellevue  WA 98008     USA  \n",
       "4          1992         9105 170th Ave NE       Redmond  WA 98052     USA  \n",
       "5          1994            522 NE 88th St       Seattle  WA 98115     USA  \n",
       "6             0         2616 174th Ave NE       Redmond  WA 98052     USA  \n",
       "7             0         23762 SE 253rd Pl  Maple Valley  WA 98038     USA  \n",
       "8             0   46611-46625 SE 129th St    North Bend  WA 98045     USA  \n",
       "9          2010          6811 55th Ave NE       Seattle  WA 98115     USA  "
      ]
     },
     "execution_count": 3,
     "metadata": {},
     "output_type": "execute_result"
    }
   ],
   "source": [
    "df.head(10)"
   ]
  },
  {
   "cell_type": "code",
   "execution_count": 4,
   "id": "c096d66c-eb3a-4d05-ab2d-12708d8a18e6",
   "metadata": {},
   "outputs": [
    {
     "data": {
      "text/html": [
       "<div>\n",
       "<style scoped>\n",
       "    .dataframe tbody tr th:only-of-type {\n",
       "        vertical-align: middle;\n",
       "    }\n",
       "\n",
       "    .dataframe tbody tr th {\n",
       "        vertical-align: top;\n",
       "    }\n",
       "\n",
       "    .dataframe thead th {\n",
       "        text-align: right;\n",
       "    }\n",
       "</style>\n",
       "<table border=\"1\" class=\"dataframe\">\n",
       "  <thead>\n",
       "    <tr style=\"text-align: right;\">\n",
       "      <th></th>\n",
       "      <th>date</th>\n",
       "      <th>price</th>\n",
       "      <th>bedrooms</th>\n",
       "      <th>bathrooms</th>\n",
       "      <th>sqft_living</th>\n",
       "      <th>sqft_lot</th>\n",
       "      <th>floors</th>\n",
       "      <th>waterfront</th>\n",
       "      <th>view</th>\n",
       "      <th>condition</th>\n",
       "      <th>sqft_above</th>\n",
       "      <th>sqft_basement</th>\n",
       "      <th>yr_built</th>\n",
       "      <th>yr_renovated</th>\n",
       "      <th>street</th>\n",
       "      <th>city</th>\n",
       "      <th>statezip</th>\n",
       "      <th>country</th>\n",
       "    </tr>\n",
       "  </thead>\n",
       "  <tbody>\n",
       "    <tr>\n",
       "      <th>4598</th>\n",
       "      <td>10/07/2014 0:00</td>\n",
       "      <td>203400.0</td>\n",
       "      <td>4</td>\n",
       "      <td>2.0</td>\n",
       "      <td>2090.0</td>\n",
       "      <td>6630.0</td>\n",
       "      <td>1.0</td>\n",
       "      <td>0</td>\n",
       "      <td>0</td>\n",
       "      <td>3</td>\n",
       "      <td>1070</td>\n",
       "      <td>1020</td>\n",
       "      <td>NaN</td>\n",
       "      <td>0</td>\n",
       "      <td>5148 S Creston St</td>\n",
       "      <td>Seattle</td>\n",
       "      <td>WA 98178</td>\n",
       "      <td>USA</td>\n",
       "    </tr>\n",
       "    <tr>\n",
       "      <th>4599</th>\n",
       "      <td>10/07/2014 0:00</td>\n",
       "      <td>220600.0</td>\n",
       "      <td>3</td>\n",
       "      <td>2.5</td>\n",
       "      <td>1490.0</td>\n",
       "      <td>8102.0</td>\n",
       "      <td>2.0</td>\n",
       "      <td>0</td>\n",
       "      <td>0</td>\n",
       "      <td>4</td>\n",
       "      <td>1490</td>\n",
       "      <td>0</td>\n",
       "      <td>NaN</td>\n",
       "      <td>0</td>\n",
       "      <td>18717 SE 258th St</td>\n",
       "      <td>Covington</td>\n",
       "      <td>WA 98042</td>\n",
       "      <td>USA</td>\n",
       "    </tr>\n",
       "  </tbody>\n",
       "</table>\n",
       "</div>"
      ],
      "text/plain": [
       "                 date     price  bedrooms  bathrooms  sqft_living  sqft_lot  \\\n",
       "4598  10/07/2014 0:00  203400.0         4        2.0       2090.0    6630.0   \n",
       "4599  10/07/2014 0:00  220600.0         3        2.5       1490.0    8102.0   \n",
       "\n",
       "      floors  waterfront  view  condition  sqft_above  sqft_basement  \\\n",
       "4598     1.0           0     0          3        1070           1020   \n",
       "4599     2.0           0     0          4        1490              0   \n",
       "\n",
       "      yr_built  yr_renovated             street       city  statezip country  \n",
       "4598       NaN             0  5148 S Creston St    Seattle  WA 98178     USA  \n",
       "4599       NaN             0  18717 SE 258th St  Covington  WA 98042     USA  "
      ]
     },
     "execution_count": 4,
     "metadata": {},
     "output_type": "execute_result"
    }
   ],
   "source": [
    "df.tail(2)"
   ]
  },
  {
   "cell_type": "code",
   "execution_count": 5,
   "id": "d0dd7c38-ef33-4e84-8882-890abfbe28b3",
   "metadata": {},
   "outputs": [
    {
     "name": "stdout",
     "output_type": "stream",
     "text": [
      "<class 'pandas.core.frame.DataFrame'>\n",
      "RangeIndex: 4600 entries, 0 to 4599\n",
      "Data columns (total 18 columns):\n",
      " #   Column         Non-Null Count  Dtype  \n",
      "---  ------         --------------  -----  \n",
      " 0   date           4600 non-null   object \n",
      " 1   price          4600 non-null   float64\n",
      " 2   bedrooms       4600 non-null   int64  \n",
      " 3   bathrooms      4600 non-null   float64\n",
      " 4   sqft_living    4560 non-null   float64\n",
      " 5   sqft_lot       4586 non-null   float64\n",
      " 6   floors         4600 non-null   float64\n",
      " 7   waterfront     4600 non-null   int64  \n",
      " 8   view           4600 non-null   int64  \n",
      " 9   condition      4600 non-null   int64  \n",
      " 10  sqft_above     4600 non-null   int64  \n",
      " 11  sqft_basement  4600 non-null   int64  \n",
      " 12  yr_built       4577 non-null   float64\n",
      " 13  yr_renovated   4600 non-null   int64  \n",
      " 14  street         4600 non-null   object \n",
      " 15  city           4543 non-null   object \n",
      " 16  statezip       4600 non-null   object \n",
      " 17  country        4600 non-null   object \n",
      "dtypes: float64(6), int64(7), object(5)\n",
      "memory usage: 647.0+ KB\n"
     ]
    }
   ],
   "source": [
    "df.info()"
   ]
  },
  {
   "cell_type": "code",
   "execution_count": 6,
   "id": "c8af1ad7-f3f3-4ec5-b318-ff4e89232cb9",
   "metadata": {},
   "outputs": [
    {
     "data": {
      "text/html": [
       "<div>\n",
       "<style scoped>\n",
       "    .dataframe tbody tr th:only-of-type {\n",
       "        vertical-align: middle;\n",
       "    }\n",
       "\n",
       "    .dataframe tbody tr th {\n",
       "        vertical-align: top;\n",
       "    }\n",
       "\n",
       "    .dataframe thead th {\n",
       "        text-align: right;\n",
       "    }\n",
       "</style>\n",
       "<table border=\"1\" class=\"dataframe\">\n",
       "  <thead>\n",
       "    <tr style=\"text-align: right;\">\n",
       "      <th></th>\n",
       "      <th>price</th>\n",
       "      <th>bedrooms</th>\n",
       "      <th>bathrooms</th>\n",
       "      <th>sqft_living</th>\n",
       "      <th>sqft_lot</th>\n",
       "      <th>floors</th>\n",
       "      <th>waterfront</th>\n",
       "      <th>view</th>\n",
       "      <th>condition</th>\n",
       "      <th>sqft_above</th>\n",
       "      <th>sqft_basement</th>\n",
       "      <th>yr_built</th>\n",
       "      <th>yr_renovated</th>\n",
       "    </tr>\n",
       "  </thead>\n",
       "  <tbody>\n",
       "    <tr>\n",
       "      <th>count</th>\n",
       "      <td>4.600000e+03</td>\n",
       "      <td>4600.000000</td>\n",
       "      <td>4600.000000</td>\n",
       "      <td>4560.000000</td>\n",
       "      <td>4.586000e+03</td>\n",
       "      <td>4600.000000</td>\n",
       "      <td>4600.000000</td>\n",
       "      <td>4600.000000</td>\n",
       "      <td>4600.000000</td>\n",
       "      <td>4600.000000</td>\n",
       "      <td>4600.000000</td>\n",
       "      <td>4577.000000</td>\n",
       "      <td>4600.000000</td>\n",
       "    </tr>\n",
       "    <tr>\n",
       "      <th>mean</th>\n",
       "      <td>5.539483e+05</td>\n",
       "      <td>3.400870</td>\n",
       "      <td>2.160815</td>\n",
       "      <td>2138.935526</td>\n",
       "      <td>1.485981e+04</td>\n",
       "      <td>1.512065</td>\n",
       "      <td>0.007174</td>\n",
       "      <td>0.240652</td>\n",
       "      <td>3.451739</td>\n",
       "      <td>1840.825435</td>\n",
       "      <td>312.081522</td>\n",
       "      <td>1970.808827</td>\n",
       "      <td>808.608261</td>\n",
       "    </tr>\n",
       "    <tr>\n",
       "      <th>std</th>\n",
       "      <td>5.808371e+05</td>\n",
       "      <td>0.908848</td>\n",
       "      <td>0.783781</td>\n",
       "      <td>965.011449</td>\n",
       "      <td>3.592050e+04</td>\n",
       "      <td>0.538288</td>\n",
       "      <td>0.084404</td>\n",
       "      <td>0.778405</td>\n",
       "      <td>0.677230</td>\n",
       "      <td>970.705795</td>\n",
       "      <td>464.137228</td>\n",
       "      <td>29.724793</td>\n",
       "      <td>979.414536</td>\n",
       "    </tr>\n",
       "    <tr>\n",
       "      <th>min</th>\n",
       "      <td>0.000000e+00</td>\n",
       "      <td>0.000000</td>\n",
       "      <td>0.000000</td>\n",
       "      <td>370.000000</td>\n",
       "      <td>6.380000e+02</td>\n",
       "      <td>1.000000</td>\n",
       "      <td>0.000000</td>\n",
       "      <td>0.000000</td>\n",
       "      <td>1.000000</td>\n",
       "      <td>350.000000</td>\n",
       "      <td>0.000000</td>\n",
       "      <td>1900.000000</td>\n",
       "      <td>0.000000</td>\n",
       "    </tr>\n",
       "    <tr>\n",
       "      <th>25%</th>\n",
       "      <td>3.225000e+05</td>\n",
       "      <td>3.000000</td>\n",
       "      <td>1.750000</td>\n",
       "      <td>1460.000000</td>\n",
       "      <td>5.000000e+03</td>\n",
       "      <td>1.000000</td>\n",
       "      <td>0.000000</td>\n",
       "      <td>0.000000</td>\n",
       "      <td>3.000000</td>\n",
       "      <td>1190.000000</td>\n",
       "      <td>0.000000</td>\n",
       "      <td>1951.000000</td>\n",
       "      <td>0.000000</td>\n",
       "    </tr>\n",
       "    <tr>\n",
       "      <th>50%</th>\n",
       "      <td>4.610000e+05</td>\n",
       "      <td>3.000000</td>\n",
       "      <td>2.250000</td>\n",
       "      <td>1980.000000</td>\n",
       "      <td>7.683500e+03</td>\n",
       "      <td>1.500000</td>\n",
       "      <td>0.000000</td>\n",
       "      <td>0.000000</td>\n",
       "      <td>3.000000</td>\n",
       "      <td>1590.000000</td>\n",
       "      <td>0.000000</td>\n",
       "      <td>1976.000000</td>\n",
       "      <td>0.000000</td>\n",
       "    </tr>\n",
       "    <tr>\n",
       "      <th>75%</th>\n",
       "      <td>6.550000e+05</td>\n",
       "      <td>4.000000</td>\n",
       "      <td>2.500000</td>\n",
       "      <td>2620.000000</td>\n",
       "      <td>1.101850e+04</td>\n",
       "      <td>2.000000</td>\n",
       "      <td>0.000000</td>\n",
       "      <td>0.000000</td>\n",
       "      <td>4.000000</td>\n",
       "      <td>2300.000000</td>\n",
       "      <td>610.000000</td>\n",
       "      <td>1997.000000</td>\n",
       "      <td>1999.000000</td>\n",
       "    </tr>\n",
       "    <tr>\n",
       "      <th>max</th>\n",
       "      <td>2.659000e+07</td>\n",
       "      <td>9.000000</td>\n",
       "      <td>8.000000</td>\n",
       "      <td>13540.000000</td>\n",
       "      <td>1.074218e+06</td>\n",
       "      <td>3.500000</td>\n",
       "      <td>1.000000</td>\n",
       "      <td>4.000000</td>\n",
       "      <td>5.000000</td>\n",
       "      <td>20450.000000</td>\n",
       "      <td>4820.000000</td>\n",
       "      <td>2014.000000</td>\n",
       "      <td>2014.000000</td>\n",
       "    </tr>\n",
       "  </tbody>\n",
       "</table>\n",
       "</div>"
      ],
      "text/plain": [
       "              price     bedrooms    bathrooms   sqft_living      sqft_lot  \\\n",
       "count  4.600000e+03  4600.000000  4600.000000   4560.000000  4.586000e+03   \n",
       "mean   5.539483e+05     3.400870     2.160815   2138.935526  1.485981e+04   \n",
       "std    5.808371e+05     0.908848     0.783781    965.011449  3.592050e+04   \n",
       "min    0.000000e+00     0.000000     0.000000    370.000000  6.380000e+02   \n",
       "25%    3.225000e+05     3.000000     1.750000   1460.000000  5.000000e+03   \n",
       "50%    4.610000e+05     3.000000     2.250000   1980.000000  7.683500e+03   \n",
       "75%    6.550000e+05     4.000000     2.500000   2620.000000  1.101850e+04   \n",
       "max    2.659000e+07     9.000000     8.000000  13540.000000  1.074218e+06   \n",
       "\n",
       "            floors   waterfront         view    condition    sqft_above  \\\n",
       "count  4600.000000  4600.000000  4600.000000  4600.000000   4600.000000   \n",
       "mean      1.512065     0.007174     0.240652     3.451739   1840.825435   \n",
       "std       0.538288     0.084404     0.778405     0.677230    970.705795   \n",
       "min       1.000000     0.000000     0.000000     1.000000    350.000000   \n",
       "25%       1.000000     0.000000     0.000000     3.000000   1190.000000   \n",
       "50%       1.500000     0.000000     0.000000     3.000000   1590.000000   \n",
       "75%       2.000000     0.000000     0.000000     4.000000   2300.000000   \n",
       "max       3.500000     1.000000     4.000000     5.000000  20450.000000   \n",
       "\n",
       "       sqft_basement     yr_built  yr_renovated  \n",
       "count    4600.000000  4577.000000   4600.000000  \n",
       "mean      312.081522  1970.808827    808.608261  \n",
       "std       464.137228    29.724793    979.414536  \n",
       "min         0.000000  1900.000000      0.000000  \n",
       "25%         0.000000  1951.000000      0.000000  \n",
       "50%         0.000000  1976.000000      0.000000  \n",
       "75%       610.000000  1997.000000   1999.000000  \n",
       "max      4820.000000  2014.000000   2014.000000  "
      ]
     },
     "execution_count": 6,
     "metadata": {},
     "output_type": "execute_result"
    }
   ],
   "source": [
    "df.describe()"
   ]
  },
  {
   "cell_type": "markdown",
   "id": "1a0cfe4b-5975-42cc-9e5e-f9c2be56e8e3",
   "metadata": {},
   "source": [
    "         "
   ]
  },
  {
   "cell_type": "markdown",
   "id": "fca7e82c-b74a-4f0e-a4a9-0123644103a5",
   "metadata": {},
   "source": [
    "      "
   ]
  },
  {
   "cell_type": "markdown",
   "id": "b4df903a-d20a-4c83-b34e-c27bbab41e9d",
   "metadata": {},
   "source": [
    "   "
   ]
  },
  {
   "cell_type": "markdown",
   "id": "decd2f68-724f-48ef-a5d3-d20b3d0a5709",
   "metadata": {},
   "source": [
    "                                                                DATA VALIDATION"
   ]
  },
  {
   "cell_type": "markdown",
   "id": "25ef6355-f693-4e5b-966f-ef3d911fbe03",
   "metadata": {},
   "source": [
    " NAGATIVE DATA IN PRICE"
   ]
  },
  {
   "cell_type": "code",
   "execution_count": 7,
   "id": "94345fe8-de35-4045-873b-3d72f9c9d99a",
   "metadata": {},
   "outputs": [],
   "source": [
    "df.loc[df['price']<=0,'price']=df['price'].mean()"
   ]
  },
  {
   "cell_type": "markdown",
   "id": "483c5c54-fe8f-40c2-bc42-65d69b70bf29",
   "metadata": {},
   "source": [
    " "
   ]
  },
  {
   "cell_type": "markdown",
   "id": "aa9a1ca5-e1d7-4a8c-bd87-b02136004813",
   "metadata": {},
   "source": [
    "\n",
    "VALID DATA IN SQFT_LIVING"
   ]
  },
  {
   "cell_type": "code",
   "execution_count": 8,
   "id": "3b5d89ae-1e9d-43a9-b952-2af5a6353d9e",
   "metadata": {},
   "outputs": [
    {
     "name": "stdout",
     "output_type": "stream",
     "text": [
      "47\n"
     ]
    }
   ],
   "source": [
    "invalid_data = df['sqft_living'] != (df['sqft_above'] + df['sqft_basement'])\n",
    "print(invalid_data.sum())"
   ]
  },
  {
   "cell_type": "code",
   "execution_count": 9,
   "id": "0ebabac3-a7bb-4cb3-8ccc-01e9be675541",
   "metadata": {},
   "outputs": [],
   "source": [
    "df.loc[df['sqft_living'] != (df['sqft_above'] + df['sqft_basement']), 'sqft_living'] = df['sqft_above'] + df['sqft_basement']"
   ]
  },
  {
   "cell_type": "code",
   "execution_count": 10,
   "id": "842ed346-924b-4f52-8b63-68138d2b5e68",
   "metadata": {},
   "outputs": [
    {
     "name": "stdout",
     "output_type": "stream",
     "text": [
      "0\n"
     ]
    }
   ],
   "source": [
    "invalid_data = df['sqft_living'] != (df['sqft_above'] + df['sqft_basement'])\n",
    "print(invalid_data.sum())"
   ]
  },
  {
   "cell_type": "markdown",
   "id": "5a15e2e1-cf4f-48c3-bb4b-cbc6db2a58f7",
   "metadata": {},
   "source": [
    " "
   ]
  },
  {
   "cell_type": "markdown",
   "id": "aa26e8aa-7f0f-44a6-a64b-990b531b0816",
   "metadata": {},
   "source": [
    "INVALID DATA FROM YR_OF_BUILD"
   ]
  },
  {
   "cell_type": "code",
   "execution_count": 11,
   "id": "019d01e1-d88f-4519-a423-c7772ef2e39b",
   "metadata": {},
   "outputs": [
    {
     "name": "stdout",
     "output_type": "stream",
     "text": [
      "0\n"
     ]
    }
   ],
   "source": [
    "invalid_data=df['yr_built'] < 1800\n",
    "print(invalid_data.sum())"
   ]
  },
  {
   "cell_type": "code",
   "execution_count": 12,
   "id": "aa05e744-475d-4aed-97c5-b724c4c783d7",
   "metadata": {},
   "outputs": [
    {
     "name": "stdout",
     "output_type": "stream",
     "text": [
      "0\n"
     ]
    }
   ],
   "source": [
    "invalid_data=df['yr_built'] >2025\n",
    "print(invalid_data.sum())"
   ]
  },
  {
   "cell_type": "markdown",
   "id": "a613130a-120d-45b2-af11-1f122710dabe",
   "metadata": {},
   "source": [
    " "
   ]
  },
  {
   "cell_type": "markdown",
   "id": "815eabd4-74ab-41b9-8ca5-0e01ce16d938",
   "metadata": {},
   "source": [
    " "
   ]
  },
  {
   "cell_type": "markdown",
   "id": "ca8b15e7-6461-4395-8940-57e1472f83ad",
   "metadata": {},
   "source": [
    "SPLIT THE DATE INTO DAY,MONTH,YEAR"
   ]
  },
  {
   "cell_type": "code",
   "execution_count": 13,
   "id": "3382ece1-eaed-4879-8d06-b3c5b8ef3ee1",
   "metadata": {},
   "outputs": [],
   "source": [
    "df['date'] = pd.to_datetime(df['date'], format='%d/%m/%Y %H:%M', errors='coerce')\n",
    "df['year'] = df['date'].dt.year\n",
    "df['month'] = df['date'].dt.month\n",
    "df['day'] = df['date'].dt.day"
   ]
  },
  {
   "cell_type": "code",
   "execution_count": 14,
   "id": "845b2e39-66c8-4978-aa0c-f756b6367ee9",
   "metadata": {},
   "outputs": [
    {
     "data": {
      "text/html": [
       "<div>\n",
       "<style scoped>\n",
       "    .dataframe tbody tr th:only-of-type {\n",
       "        vertical-align: middle;\n",
       "    }\n",
       "\n",
       "    .dataframe tbody tr th {\n",
       "        vertical-align: top;\n",
       "    }\n",
       "\n",
       "    .dataframe thead th {\n",
       "        text-align: right;\n",
       "    }\n",
       "</style>\n",
       "<table border=\"1\" class=\"dataframe\">\n",
       "  <thead>\n",
       "    <tr style=\"text-align: right;\">\n",
       "      <th></th>\n",
       "      <th>date</th>\n",
       "      <th>price</th>\n",
       "      <th>bedrooms</th>\n",
       "      <th>bathrooms</th>\n",
       "      <th>sqft_living</th>\n",
       "      <th>sqft_lot</th>\n",
       "      <th>floors</th>\n",
       "      <th>waterfront</th>\n",
       "      <th>view</th>\n",
       "      <th>condition</th>\n",
       "      <th>...</th>\n",
       "      <th>sqft_basement</th>\n",
       "      <th>yr_built</th>\n",
       "      <th>yr_renovated</th>\n",
       "      <th>street</th>\n",
       "      <th>city</th>\n",
       "      <th>statezip</th>\n",
       "      <th>country</th>\n",
       "      <th>year</th>\n",
       "      <th>month</th>\n",
       "      <th>day</th>\n",
       "    </tr>\n",
       "  </thead>\n",
       "  <tbody>\n",
       "    <tr>\n",
       "      <th>0</th>\n",
       "      <td>2014-05-02</td>\n",
       "      <td>313000.0</td>\n",
       "      <td>3</td>\n",
       "      <td>1.5</td>\n",
       "      <td>1340.0</td>\n",
       "      <td>NaN</td>\n",
       "      <td>1.5</td>\n",
       "      <td>0</td>\n",
       "      <td>0</td>\n",
       "      <td>3</td>\n",
       "      <td>...</td>\n",
       "      <td>0</td>\n",
       "      <td>1955.0</td>\n",
       "      <td>2005</td>\n",
       "      <td>18810 Densmore Ave N</td>\n",
       "      <td>Shoreline</td>\n",
       "      <td>WA 98133</td>\n",
       "      <td>USA</td>\n",
       "      <td>2014</td>\n",
       "      <td>5</td>\n",
       "      <td>2</td>\n",
       "    </tr>\n",
       "    <tr>\n",
       "      <th>1</th>\n",
       "      <td>2014-05-02</td>\n",
       "      <td>2384000.0</td>\n",
       "      <td>5</td>\n",
       "      <td>2.5</td>\n",
       "      <td>3650.0</td>\n",
       "      <td>NaN</td>\n",
       "      <td>2.0</td>\n",
       "      <td>0</td>\n",
       "      <td>4</td>\n",
       "      <td>5</td>\n",
       "      <td>...</td>\n",
       "      <td>280</td>\n",
       "      <td>1921.0</td>\n",
       "      <td>0</td>\n",
       "      <td>709 W Blaine St</td>\n",
       "      <td>Seattle</td>\n",
       "      <td>WA 98119</td>\n",
       "      <td>USA</td>\n",
       "      <td>2014</td>\n",
       "      <td>5</td>\n",
       "      <td>2</td>\n",
       "    </tr>\n",
       "  </tbody>\n",
       "</table>\n",
       "<p>2 rows × 21 columns</p>\n",
       "</div>"
      ],
      "text/plain": [
       "        date      price  bedrooms  bathrooms  sqft_living  sqft_lot  floors  \\\n",
       "0 2014-05-02   313000.0         3        1.5       1340.0       NaN     1.5   \n",
       "1 2014-05-02  2384000.0         5        2.5       3650.0       NaN     2.0   \n",
       "\n",
       "   waterfront  view  condition  ...  sqft_basement  yr_built  yr_renovated  \\\n",
       "0           0     0          3  ...              0    1955.0          2005   \n",
       "1           0     4          5  ...            280    1921.0             0   \n",
       "\n",
       "                 street       city  statezip country  year  month  day  \n",
       "0  18810 Densmore Ave N  Shoreline  WA 98133     USA  2014      5    2  \n",
       "1       709 W Blaine St    Seattle  WA 98119     USA  2014      5    2  \n",
       "\n",
       "[2 rows x 21 columns]"
      ]
     },
     "execution_count": 14,
     "metadata": {},
     "output_type": "execute_result"
    }
   ],
   "source": [
    "df.head(2)"
   ]
  },
  {
   "cell_type": "markdown",
   "id": "171bba72-2942-4c83-b2fc-414592314b5c",
   "metadata": {},
   "source": [
    " "
   ]
  },
  {
   "cell_type": "markdown",
   "id": "7c6a429f-6289-46d8-9c8f-af0461648d2b",
   "metadata": {},
   "source": [
    "  "
   ]
  },
  {
   "cell_type": "markdown",
   "id": "f46c0f39-22a1-4b08-a61c-94a73e1df425",
   "metadata": {},
   "source": [
    "ENCODE THE WATER FRONT"
   ]
  },
  {
   "cell_type": "code",
   "execution_count": 15,
   "id": "5cf36306-c5d5-44f6-a550-b2494676ebf8",
   "metadata": {},
   "outputs": [],
   "source": [
    "df['waterfront']=df['waterfront'].astype(str) "
   ]
  },
  {
   "cell_type": "code",
   "execution_count": 16,
   "id": "fa6e2e53-16cb-4b0e-b20c-5298b8cba5b0",
   "metadata": {},
   "outputs": [],
   "source": [
    "df.loc[df['waterfront']=='1','waterfront']='yes'"
   ]
  },
  {
   "cell_type": "code",
   "execution_count": 17,
   "id": "97bf5ab6-6803-4c7d-ae62-71604970bfba",
   "metadata": {},
   "outputs": [],
   "source": [
    "df.loc[df['waterfront']=='0','waterfront']='no'"
   ]
  },
  {
   "cell_type": "code",
   "execution_count": 18,
   "id": "f3d65051-468f-4a95-b839-7882960929ef",
   "metadata": {},
   "outputs": [
    {
     "data": {
      "text/html": [
       "<div>\n",
       "<style scoped>\n",
       "    .dataframe tbody tr th:only-of-type {\n",
       "        vertical-align: middle;\n",
       "    }\n",
       "\n",
       "    .dataframe tbody tr th {\n",
       "        vertical-align: top;\n",
       "    }\n",
       "\n",
       "    .dataframe thead th {\n",
       "        text-align: right;\n",
       "    }\n",
       "</style>\n",
       "<table border=\"1\" class=\"dataframe\">\n",
       "  <thead>\n",
       "    <tr style=\"text-align: right;\">\n",
       "      <th></th>\n",
       "      <th>date</th>\n",
       "      <th>price</th>\n",
       "      <th>bedrooms</th>\n",
       "      <th>bathrooms</th>\n",
       "      <th>sqft_living</th>\n",
       "      <th>sqft_lot</th>\n",
       "      <th>floors</th>\n",
       "      <th>waterfront</th>\n",
       "      <th>view</th>\n",
       "      <th>condition</th>\n",
       "      <th>...</th>\n",
       "      <th>sqft_basement</th>\n",
       "      <th>yr_built</th>\n",
       "      <th>yr_renovated</th>\n",
       "      <th>street</th>\n",
       "      <th>city</th>\n",
       "      <th>statezip</th>\n",
       "      <th>country</th>\n",
       "      <th>year</th>\n",
       "      <th>month</th>\n",
       "      <th>day</th>\n",
       "    </tr>\n",
       "  </thead>\n",
       "  <tbody>\n",
       "    <tr>\n",
       "      <th>0</th>\n",
       "      <td>2014-05-02</td>\n",
       "      <td>313000.0</td>\n",
       "      <td>3</td>\n",
       "      <td>1.5</td>\n",
       "      <td>1340.0</td>\n",
       "      <td>NaN</td>\n",
       "      <td>1.5</td>\n",
       "      <td>no</td>\n",
       "      <td>0</td>\n",
       "      <td>3</td>\n",
       "      <td>...</td>\n",
       "      <td>0</td>\n",
       "      <td>1955.0</td>\n",
       "      <td>2005</td>\n",
       "      <td>18810 Densmore Ave N</td>\n",
       "      <td>Shoreline</td>\n",
       "      <td>WA 98133</td>\n",
       "      <td>USA</td>\n",
       "      <td>2014</td>\n",
       "      <td>5</td>\n",
       "      <td>2</td>\n",
       "    </tr>\n",
       "    <tr>\n",
       "      <th>1</th>\n",
       "      <td>2014-05-02</td>\n",
       "      <td>2384000.0</td>\n",
       "      <td>5</td>\n",
       "      <td>2.5</td>\n",
       "      <td>3650.0</td>\n",
       "      <td>NaN</td>\n",
       "      <td>2.0</td>\n",
       "      <td>no</td>\n",
       "      <td>4</td>\n",
       "      <td>5</td>\n",
       "      <td>...</td>\n",
       "      <td>280</td>\n",
       "      <td>1921.0</td>\n",
       "      <td>0</td>\n",
       "      <td>709 W Blaine St</td>\n",
       "      <td>Seattle</td>\n",
       "      <td>WA 98119</td>\n",
       "      <td>USA</td>\n",
       "      <td>2014</td>\n",
       "      <td>5</td>\n",
       "      <td>2</td>\n",
       "    </tr>\n",
       "  </tbody>\n",
       "</table>\n",
       "<p>2 rows × 21 columns</p>\n",
       "</div>"
      ],
      "text/plain": [
       "        date      price  bedrooms  bathrooms  sqft_living  sqft_lot  floors  \\\n",
       "0 2014-05-02   313000.0         3        1.5       1340.0       NaN     1.5   \n",
       "1 2014-05-02  2384000.0         5        2.5       3650.0       NaN     2.0   \n",
       "\n",
       "  waterfront  view  condition  ...  sqft_basement  yr_built  yr_renovated  \\\n",
       "0         no     0          3  ...              0    1955.0          2005   \n",
       "1         no     4          5  ...            280    1921.0             0   \n",
       "\n",
       "                 street       city  statezip country  year  month  day  \n",
       "0  18810 Densmore Ave N  Shoreline  WA 98133     USA  2014      5    2  \n",
       "1       709 W Blaine St    Seattle  WA 98119     USA  2014      5    2  \n",
       "\n",
       "[2 rows x 21 columns]"
      ]
     },
     "execution_count": 18,
     "metadata": {},
     "output_type": "execute_result"
    }
   ],
   "source": [
    "df.head(2)"
   ]
  },
  {
   "cell_type": "markdown",
   "id": "ef53be59-eea4-42a0-94b2-f7e6203ae8bf",
   "metadata": {},
   "source": [
    "  "
   ]
  },
  {
   "cell_type": "markdown",
   "id": "0ae978d5-67bc-41a5-96e4-8db09c9835da",
   "metadata": {},
   "source": [
    " "
   ]
  },
  {
   "cell_type": "markdown",
   "id": "3045b594-700b-4301-93ee-029333d114b4",
   "metadata": {},
   "source": [
    "ENCODE THE VIEW"
   ]
  },
  {
   "cell_type": "code",
   "execution_count": 19,
   "id": "e14a96b2-e597-4ff8-b7e8-1342c38a53b7",
   "metadata": {},
   "outputs": [],
   "source": [
    "df['view']=df['view'].astype(str)"
   ]
  },
  {
   "cell_type": "code",
   "execution_count": 20,
   "id": "acef30a6-490b-44c0-9a7e-224213882644",
   "metadata": {},
   "outputs": [],
   "source": [
    "df.loc[df['view']=='0','view']='No'\n",
    "df.loc[df['view']=='1','view']='poor'\n",
    "df.loc[df['view']=='2','view']='average'\n",
    "df.loc[df['view']=='3','view']='good'\n",
    "df.loc[df['view']=='4','view']='excellent'"
   ]
  },
  {
   "cell_type": "code",
   "execution_count": 21,
   "id": "ec7cb83b-0981-4c0d-800f-0d8f36c0f8ae",
   "metadata": {},
   "outputs": [
    {
     "data": {
      "text/html": [
       "<div>\n",
       "<style scoped>\n",
       "    .dataframe tbody tr th:only-of-type {\n",
       "        vertical-align: middle;\n",
       "    }\n",
       "\n",
       "    .dataframe tbody tr th {\n",
       "        vertical-align: top;\n",
       "    }\n",
       "\n",
       "    .dataframe thead th {\n",
       "        text-align: right;\n",
       "    }\n",
       "</style>\n",
       "<table border=\"1\" class=\"dataframe\">\n",
       "  <thead>\n",
       "    <tr style=\"text-align: right;\">\n",
       "      <th></th>\n",
       "      <th>date</th>\n",
       "      <th>price</th>\n",
       "      <th>bedrooms</th>\n",
       "      <th>bathrooms</th>\n",
       "      <th>sqft_living</th>\n",
       "      <th>sqft_lot</th>\n",
       "      <th>floors</th>\n",
       "      <th>waterfront</th>\n",
       "      <th>view</th>\n",
       "      <th>condition</th>\n",
       "      <th>...</th>\n",
       "      <th>sqft_basement</th>\n",
       "      <th>yr_built</th>\n",
       "      <th>yr_renovated</th>\n",
       "      <th>street</th>\n",
       "      <th>city</th>\n",
       "      <th>statezip</th>\n",
       "      <th>country</th>\n",
       "      <th>year</th>\n",
       "      <th>month</th>\n",
       "      <th>day</th>\n",
       "    </tr>\n",
       "  </thead>\n",
       "  <tbody>\n",
       "    <tr>\n",
       "      <th>0</th>\n",
       "      <td>2014-05-02</td>\n",
       "      <td>313000.0</td>\n",
       "      <td>3</td>\n",
       "      <td>1.5</td>\n",
       "      <td>1340.0</td>\n",
       "      <td>NaN</td>\n",
       "      <td>1.5</td>\n",
       "      <td>no</td>\n",
       "      <td>No</td>\n",
       "      <td>3</td>\n",
       "      <td>...</td>\n",
       "      <td>0</td>\n",
       "      <td>1955.0</td>\n",
       "      <td>2005</td>\n",
       "      <td>18810 Densmore Ave N</td>\n",
       "      <td>Shoreline</td>\n",
       "      <td>WA 98133</td>\n",
       "      <td>USA</td>\n",
       "      <td>2014</td>\n",
       "      <td>5</td>\n",
       "      <td>2</td>\n",
       "    </tr>\n",
       "    <tr>\n",
       "      <th>1</th>\n",
       "      <td>2014-05-02</td>\n",
       "      <td>2384000.0</td>\n",
       "      <td>5</td>\n",
       "      <td>2.5</td>\n",
       "      <td>3650.0</td>\n",
       "      <td>NaN</td>\n",
       "      <td>2.0</td>\n",
       "      <td>no</td>\n",
       "      <td>excellent</td>\n",
       "      <td>5</td>\n",
       "      <td>...</td>\n",
       "      <td>280</td>\n",
       "      <td>1921.0</td>\n",
       "      <td>0</td>\n",
       "      <td>709 W Blaine St</td>\n",
       "      <td>Seattle</td>\n",
       "      <td>WA 98119</td>\n",
       "      <td>USA</td>\n",
       "      <td>2014</td>\n",
       "      <td>5</td>\n",
       "      <td>2</td>\n",
       "    </tr>\n",
       "  </tbody>\n",
       "</table>\n",
       "<p>2 rows × 21 columns</p>\n",
       "</div>"
      ],
      "text/plain": [
       "        date      price  bedrooms  bathrooms  sqft_living  sqft_lot  floors  \\\n",
       "0 2014-05-02   313000.0         3        1.5       1340.0       NaN     1.5   \n",
       "1 2014-05-02  2384000.0         5        2.5       3650.0       NaN     2.0   \n",
       "\n",
       "  waterfront       view  condition  ...  sqft_basement  yr_built  \\\n",
       "0         no         No          3  ...              0    1955.0   \n",
       "1         no  excellent          5  ...            280    1921.0   \n",
       "\n",
       "   yr_renovated                street       city  statezip country  year  \\\n",
       "0          2005  18810 Densmore Ave N  Shoreline  WA 98133     USA  2014   \n",
       "1             0       709 W Blaine St    Seattle  WA 98119     USA  2014   \n",
       "\n",
       "   month  day  \n",
       "0      5    2  \n",
       "1      5    2  \n",
       "\n",
       "[2 rows x 21 columns]"
      ]
     },
     "execution_count": 21,
     "metadata": {},
     "output_type": "execute_result"
    }
   ],
   "source": [
    "df.head(2)"
   ]
  },
  {
   "cell_type": "markdown",
   "id": "59097be3-1857-4776-ba7e-b51d99c6f5d9",
   "metadata": {},
   "source": [
    " "
   ]
  },
  {
   "cell_type": "markdown",
   "id": "e2896350-a203-48bf-b0d6-d31492368a9b",
   "metadata": {},
   "source": [
    " "
   ]
  },
  {
   "cell_type": "markdown",
   "id": "c2fd6d97-4142-4c66-869e-b5a879f7f19d",
   "metadata": {},
   "source": [
    "ENCODE THE CONDITION"
   ]
  },
  {
   "cell_type": "code",
   "execution_count": 22,
   "id": "65d7d157-046b-4c23-8941-bded6b9e3e47",
   "metadata": {},
   "outputs": [],
   "source": [
    "df['condition']=df['condition'].astype(str)"
   ]
  },
  {
   "cell_type": "code",
   "execution_count": 23,
   "id": "41ba0aef-51fd-4fa1-9d2f-c018edb70405",
   "metadata": {},
   "outputs": [],
   "source": [
    "df.loc[df['condition']=='1','condition']='poor'\n",
    "df.loc[df['condition']=='2','condition']='fair'\n",
    "df.loc[df['condition']=='3','condition']='average'\n",
    "df.loc[df['condition']=='4','condition']='good'\n",
    "df.loc[df['condition']=='5','condition']='excellent'"
   ]
  },
  {
   "cell_type": "code",
   "execution_count": 24,
   "id": "986edd3e-0373-4f46-8767-047ea8ad1707",
   "metadata": {},
   "outputs": [
    {
     "data": {
      "text/html": [
       "<div>\n",
       "<style scoped>\n",
       "    .dataframe tbody tr th:only-of-type {\n",
       "        vertical-align: middle;\n",
       "    }\n",
       "\n",
       "    .dataframe tbody tr th {\n",
       "        vertical-align: top;\n",
       "    }\n",
       "\n",
       "    .dataframe thead th {\n",
       "        text-align: right;\n",
       "    }\n",
       "</style>\n",
       "<table border=\"1\" class=\"dataframe\">\n",
       "  <thead>\n",
       "    <tr style=\"text-align: right;\">\n",
       "      <th></th>\n",
       "      <th>date</th>\n",
       "      <th>price</th>\n",
       "      <th>bedrooms</th>\n",
       "      <th>bathrooms</th>\n",
       "      <th>sqft_living</th>\n",
       "      <th>sqft_lot</th>\n",
       "      <th>floors</th>\n",
       "      <th>waterfront</th>\n",
       "      <th>view</th>\n",
       "      <th>condition</th>\n",
       "      <th>...</th>\n",
       "      <th>sqft_basement</th>\n",
       "      <th>yr_built</th>\n",
       "      <th>yr_renovated</th>\n",
       "      <th>street</th>\n",
       "      <th>city</th>\n",
       "      <th>statezip</th>\n",
       "      <th>country</th>\n",
       "      <th>year</th>\n",
       "      <th>month</th>\n",
       "      <th>day</th>\n",
       "    </tr>\n",
       "  </thead>\n",
       "  <tbody>\n",
       "    <tr>\n",
       "      <th>0</th>\n",
       "      <td>2014-05-02</td>\n",
       "      <td>313000.0</td>\n",
       "      <td>3</td>\n",
       "      <td>1.5</td>\n",
       "      <td>1340.0</td>\n",
       "      <td>NaN</td>\n",
       "      <td>1.5</td>\n",
       "      <td>no</td>\n",
       "      <td>No</td>\n",
       "      <td>average</td>\n",
       "      <td>...</td>\n",
       "      <td>0</td>\n",
       "      <td>1955.0</td>\n",
       "      <td>2005</td>\n",
       "      <td>18810 Densmore Ave N</td>\n",
       "      <td>Shoreline</td>\n",
       "      <td>WA 98133</td>\n",
       "      <td>USA</td>\n",
       "      <td>2014</td>\n",
       "      <td>5</td>\n",
       "      <td>2</td>\n",
       "    </tr>\n",
       "    <tr>\n",
       "      <th>1</th>\n",
       "      <td>2014-05-02</td>\n",
       "      <td>2384000.0</td>\n",
       "      <td>5</td>\n",
       "      <td>2.5</td>\n",
       "      <td>3650.0</td>\n",
       "      <td>NaN</td>\n",
       "      <td>2.0</td>\n",
       "      <td>no</td>\n",
       "      <td>excellent</td>\n",
       "      <td>excellent</td>\n",
       "      <td>...</td>\n",
       "      <td>280</td>\n",
       "      <td>1921.0</td>\n",
       "      <td>0</td>\n",
       "      <td>709 W Blaine St</td>\n",
       "      <td>Seattle</td>\n",
       "      <td>WA 98119</td>\n",
       "      <td>USA</td>\n",
       "      <td>2014</td>\n",
       "      <td>5</td>\n",
       "      <td>2</td>\n",
       "    </tr>\n",
       "  </tbody>\n",
       "</table>\n",
       "<p>2 rows × 21 columns</p>\n",
       "</div>"
      ],
      "text/plain": [
       "        date      price  bedrooms  bathrooms  sqft_living  sqft_lot  floors  \\\n",
       "0 2014-05-02   313000.0         3        1.5       1340.0       NaN     1.5   \n",
       "1 2014-05-02  2384000.0         5        2.5       3650.0       NaN     2.0   \n",
       "\n",
       "  waterfront       view  condition  ...  sqft_basement  yr_built  \\\n",
       "0         no         No    average  ...              0    1955.0   \n",
       "1         no  excellent  excellent  ...            280    1921.0   \n",
       "\n",
       "   yr_renovated                street       city  statezip country  year  \\\n",
       "0          2005  18810 Densmore Ave N  Shoreline  WA 98133     USA  2014   \n",
       "1             0       709 W Blaine St    Seattle  WA 98119     USA  2014   \n",
       "\n",
       "   month  day  \n",
       "0      5    2  \n",
       "1      5    2  \n",
       "\n",
       "[2 rows x 21 columns]"
      ]
     },
     "execution_count": 24,
     "metadata": {},
     "output_type": "execute_result"
    }
   ],
   "source": [
    "df.head(2)"
   ]
  },
  {
   "cell_type": "markdown",
   "id": "dcc58594-de96-4875-be4b-c5998865ee24",
   "metadata": {},
   "source": [
    "  "
   ]
  },
  {
   "cell_type": "markdown",
   "id": "3723e2e2-dd3c-4146-9171-58ea1cbb199a",
   "metadata": {},
   "source": [
    " "
   ]
  },
  {
   "cell_type": "markdown",
   "id": "2f2b350b-0240-4233-a882-71c0710ca2d9",
   "metadata": {},
   "source": [
    "                                                           FILLING NULL VALUES"
   ]
  },
  {
   "cell_type": "code",
   "execution_count": 25,
   "id": "4b9110d8-c330-4db3-aec3-b997f8fc9c14",
   "metadata": {},
   "outputs": [
    {
     "data": {
      "text/plain": [
       "date              0\n",
       "price             0\n",
       "bedrooms          0\n",
       "bathrooms         0\n",
       "sqft_living       0\n",
       "sqft_lot         14\n",
       "floors            0\n",
       "waterfront        0\n",
       "view              0\n",
       "condition         0\n",
       "sqft_above        0\n",
       "sqft_basement     0\n",
       "yr_built         23\n",
       "yr_renovated      0\n",
       "street            0\n",
       "city             57\n",
       "statezip          0\n",
       "country           0\n",
       "year              0\n",
       "month             0\n",
       "day               0\n",
       "dtype: int64"
      ]
     },
     "execution_count": 25,
     "metadata": {},
     "output_type": "execute_result"
    }
   ],
   "source": [
    "df.isnull().sum()"
   ]
  },
  {
   "cell_type": "markdown",
   "id": "94ea6f91-2577-4142-899d-57c86e61e911",
   "metadata": {},
   "source": [
    " "
   ]
  },
  {
   "cell_type": "markdown",
   "id": "c42f0a8e-f3db-42d6-b4fc-4819a9da840d",
   "metadata": {},
   "source": [
    "FILLING SQFT_LOT NULL VALUES "
   ]
  },
  {
   "cell_type": "code",
   "execution_count": 26,
   "id": "9613e35d-5116-4012-9005-2a128c4aa070",
   "metadata": {},
   "outputs": [],
   "source": [
    "data= df.groupby('bedrooms')['sqft_lot'].median()"
   ]
  },
  {
   "cell_type": "code",
   "execution_count": 27,
   "id": "93dd7433-cbf1-4f8f-9d17-723e73c7a01f",
   "metadata": {},
   "outputs": [],
   "source": [
    "df['sqft_lot']=df['sqft_lot'].fillna(df['bedrooms'].map(data))"
   ]
  },
  {
   "cell_type": "code",
   "execution_count": 28,
   "id": "90296b43-70e2-4b27-9a6b-7f6562425d83",
   "metadata": {},
   "outputs": [
    {
     "data": {
      "text/plain": [
       "0"
      ]
     },
     "execution_count": 28,
     "metadata": {},
     "output_type": "execute_result"
    }
   ],
   "source": [
    "df['sqft_lot'].isnull().sum()"
   ]
  },
  {
   "cell_type": "markdown",
   "id": "c55fff69-3719-455b-b631-01f5b325b309",
   "metadata": {},
   "source": [
    " "
   ]
  },
  {
   "cell_type": "markdown",
   "id": "cb1d73a6-30a3-4b6e-995a-2f764ba1c34f",
   "metadata": {},
   "source": [
    "Filling YR_BUILT NULL VALUES"
   ]
  },
  {
   "cell_type": "code",
   "execution_count": 29,
   "id": "6d9f2ee8-0c5d-4377-8e2c-0d107dbad0f8",
   "metadata": {},
   "outputs": [],
   "source": [
    "data=df.groupby('floors')['yr_built'].median()"
   ]
  },
  {
   "cell_type": "code",
   "execution_count": 30,
   "id": "f0de3b2a-4f14-4bc5-adc6-08e1241b703f",
   "metadata": {},
   "outputs": [],
   "source": [
    "df['yr_built']=df['yr_built'].fillna(df['floors'].map(data))"
   ]
  },
  {
   "cell_type": "code",
   "execution_count": 31,
   "id": "4e7dd476-ba3d-4201-b38a-41140d94b8c1",
   "metadata": {},
   "outputs": [
    {
     "data": {
      "text/plain": [
       "0"
      ]
     },
     "execution_count": 31,
     "metadata": {},
     "output_type": "execute_result"
    }
   ],
   "source": [
    "df['yr_built'].isnull().sum()"
   ]
  },
  {
   "cell_type": "markdown",
   "id": "ab23308a-afc4-4cb2-8a45-66b40dceb043",
   "metadata": {},
   "source": [
    " "
   ]
  },
  {
   "cell_type": "markdown",
   "id": "ad61a5d2-0654-4fb3-854f-b0c8d3ebd43e",
   "metadata": {},
   "source": [
    "FILLING CITY NULL VALUES"
   ]
  },
  {
   "cell_type": "code",
   "execution_count": 32,
   "id": "184ed52c-05c6-417c-a5de-906e1f359ffc",
   "metadata": {},
   "outputs": [
    {
     "data": {
      "text/plain": [
       "57"
      ]
     },
     "execution_count": 32,
     "metadata": {},
     "output_type": "execute_result"
    }
   ],
   "source": [
    "df['city'].isnull().sum()"
   ]
  },
  {
   "cell_type": "code",
   "execution_count": 33,
   "id": "f29248a5-983d-4b32-83e1-78de4faac338",
   "metadata": {},
   "outputs": [],
   "source": [
    "data= df.groupby(['statezip', 'city']).size().reset_index(name='count')\n",
    "data= data.sort_values(['statezip', 'count'], ascending=[True, False])\n",
    "data= data.drop_duplicates('statezip').set_index('statezip')['city']"
   ]
  },
  {
   "cell_type": "code",
   "execution_count": 34,
   "id": "74c23969-2f3e-47e4-8536-fc1405196e54",
   "metadata": {},
   "outputs": [],
   "source": [
    "df['city']=df['city'].fillna(df['statezip'].map(data))"
   ]
  },
  {
   "cell_type": "code",
   "execution_count": 35,
   "id": "9c46c263-3f80-437d-a076-b275dffd22a8",
   "metadata": {},
   "outputs": [
    {
     "data": {
      "text/plain": [
       "0"
      ]
     },
     "execution_count": 35,
     "metadata": {},
     "output_type": "execute_result"
    }
   ],
   "source": [
    "df['city'].isnull().sum()"
   ]
  },
  {
   "cell_type": "code",
   "execution_count": 36,
   "id": "2251ae19-cbe6-45d2-8295-c7d38614c5fc",
   "metadata": {},
   "outputs": [
    {
     "data": {
      "text/plain": [
       "date             0\n",
       "price            0\n",
       "bedrooms         0\n",
       "bathrooms        0\n",
       "sqft_living      0\n",
       "sqft_lot         0\n",
       "floors           0\n",
       "waterfront       0\n",
       "view             0\n",
       "condition        0\n",
       "sqft_above       0\n",
       "sqft_basement    0\n",
       "yr_built         0\n",
       "yr_renovated     0\n",
       "street           0\n",
       "city             0\n",
       "statezip         0\n",
       "country          0\n",
       "year             0\n",
       "month            0\n",
       "day              0\n",
       "dtype: int64"
      ]
     },
     "execution_count": 36,
     "metadata": {},
     "output_type": "execute_result"
    }
   ],
   "source": [
    "df.isnull().sum()"
   ]
  },
  {
   "cell_type": "markdown",
   "id": "619fb795-3dcd-48f3-aff8-e71eafaac4e7",
   "metadata": {},
   "source": [
    " "
   ]
  },
  {
   "cell_type": "markdown",
   "id": "9d213b99-2691-4eb9-9983-21c5c4f335a2",
   "metadata": {},
   "source": [
    " "
   ]
  },
  {
   "cell_type": "markdown",
   "id": "a9d7b214-b50c-4433-b393-3f375fd2e60a",
   "metadata": {},
   "source": [
    "                                                            DATA VALIDATION"
   ]
  },
  {
   "cell_type": "code",
   "execution_count": 37,
   "id": "01382716-07ae-4807-9394-4eec1527f054",
   "metadata": {},
   "outputs": [],
   "source": [
    "df['bathrooms']=df['bathrooms'].astype(int)\n",
    "df['floors']=df['floors'].astype(int)\n",
    "df['floors']=df['floors'].astype(str)\n",
    "df['waterfront']=df['waterfront'].astype(str)\n",
    "df['view']=df['view'].astype(str)\n",
    "df['condition']=df['condition'].astype(str)\n",
    "df['yr_built']=df['yr_built'].astype(int)"
   ]
  },
  {
   "cell_type": "markdown",
   "id": "adf37227-8c01-414b-a989-bd0eac94f254",
   "metadata": {},
   "source": [
    "NAGATIVE DATA IN PRICE"
   ]
  },
  {
   "cell_type": "code",
   "execution_count": 38,
   "id": "95b4f903-723b-4ad6-9e76-cb075b71186a",
   "metadata": {},
   "outputs": [],
   "source": [
    "df.loc[df['price']<=0,'price']=df['price'].mean()"
   ]
  },
  {
   "cell_type": "markdown",
   "id": "078efd5b-b6e1-4768-ba2c-4521e202212d",
   "metadata": {},
   "source": [
    " "
   ]
  },
  {
   "cell_type": "markdown",
   "id": "a2c2bcb4-e1c8-47ca-b2b7-8dbfdd16cc44",
   "metadata": {},
   "source": [
    "VALID DATA IN SQFT_LIVING"
   ]
  },
  {
   "cell_type": "code",
   "execution_count": 39,
   "id": "1f403027-8b11-441c-9326-eb630a82764f",
   "metadata": {},
   "outputs": [],
   "source": [
    "df.loc[df['sqft_living'] != (df['sqft_above'] + df['sqft_basement']), 'sqft_living'] = df['sqft_above'] + df['sqft_basement']"
   ]
  },
  {
   "cell_type": "markdown",
   "id": "07ca21a7-861e-4f8e-bd69-f59f85c7afdd",
   "metadata": {},
   "source": [
    " "
   ]
  },
  {
   "cell_type": "markdown",
   "id": "e7f2500d-c8b5-46e7-925e-73c3d6c7458d",
   "metadata": {},
   "source": [
    "INVALID DATA FROM YR_OF_BUILD"
   ]
  },
  {
   "cell_type": "code",
   "execution_count": 40,
   "id": "4e589bb2-4874-4188-8e69-b0e83d1b7ea5",
   "metadata": {},
   "outputs": [
    {
     "name": "stdout",
     "output_type": "stream",
     "text": [
      "0\n"
     ]
    }
   ],
   "source": [
    "invalid_data=df['yr_built'] < 1800\n",
    "print(invalid_data.sum())"
   ]
  },
  {
   "cell_type": "code",
   "execution_count": 41,
   "id": "45d8b9e9-3d14-4bf1-ab07-8a2830193cc6",
   "metadata": {},
   "outputs": [
    {
     "name": "stdout",
     "output_type": "stream",
     "text": [
      "0\n"
     ]
    }
   ],
   "source": [
    "invalid_data=df['yr_built'] >2025\n",
    "print(invalid_data.sum())"
   ]
  },
  {
   "cell_type": "markdown",
   "id": "edaf43c4-c345-46dc-addc-bdec60c7a5e0",
   "metadata": {},
   "source": [
    " "
   ]
  },
  {
   "cell_type": "markdown",
   "id": "66b5b885-1cfc-4742-af99-a35adc4c1bba",
   "metadata": {},
   "source": [
    " "
   ]
  },
  {
   "cell_type": "markdown",
   "id": "746bd2cc-9d14-449c-b2bc-84182ae28a56",
   "metadata": {},
   "source": [
    "                                                     FIND & REPLACE OUTLIERS           "
   ]
  },
  {
   "cell_type": "markdown",
   "id": "dcdbc6bd-eae3-40cd-acb0-67033a02d6ef",
   "metadata": {},
   "source": [
    "FINDING OUTLIER"
   ]
  },
  {
   "cell_type": "code",
   "execution_count": 42,
   "id": "e624f8f9-a8b5-4ff2-af66-fa68fd89a02d",
   "metadata": {},
   "outputs": [],
   "source": [
    "import matplotlib.pyplot as plt\n",
    "import seaborn as sns"
   ]
  },
  {
   "cell_type": "code",
   "execution_count": 43,
   "id": "b1e16535-f7f9-4756-8ee4-1eaaaa217dcd",
   "metadata": {},
   "outputs": [
    {
     "name": "stdout",
     "output_type": "stream",
     "text": [
      "Index(['price', 'bedrooms', 'bathrooms', 'sqft_living', 'sqft_lot',\n",
      "       'sqft_above', 'sqft_basement', 'yr_built', 'yr_renovated', 'year',\n",
      "       'month', 'day'],\n",
      "      dtype='object')\n"
     ]
    }
   ],
   "source": [
    "num_cols = df.select_dtypes(include=['number'])\n",
    "print(num_cols.columns)"
   ]
  },
  {
   "cell_type": "code",
   "execution_count": 44,
   "id": "4d4b5e5b-921a-44fe-a1bb-415482eb5645",
   "metadata": {},
   "outputs": [
    {
     "data": {
      "text/plain": [
       "<Axes: >"
      ]
     },
     "execution_count": 44,
     "metadata": {},
     "output_type": "execute_result"
    },
    {
     "data": {
      "image/png": "[encoded data removed]",
      "text/plain": [
       "<Figure size 2000x600 with 1 Axes>"
      ]
     },
     "metadata": {},
     "output_type": "display_data"
    }
   ],
   "source": [
    "plt.figure(figsize=(20, 6))\n",
    "df.boxplot(column=['price', 'bedrooms', 'bathrooms', 'sqft_living', 'sqft_lot',\n",
    "       'sqft_above',\n",
    "       'sqft_basement', 'yr_built', 'yr_renovated']) "
   ]
  },
  {
   "cell_type": "code",
   "execution_count": 45,
   "id": "7ad8f6ef-95c6-4641-a57d-7fafb2e8ab2a",
   "metadata": {},
   "outputs": [],
   "source": [
    "def count_outlier(df):\n",
    "    for col in num_cols.columns:\n",
    "        q3=df[col].quantile(0.75)\n",
    "        q1=df[col].quantile(0.25)\n",
    "        iqr=q3-q1\n",
    "        lower_bound=q1-1.5*iqr\n",
    "        upper_bound=q3+1.5*iqr\n",
    "        \n",
    "        med_val=df[col].median()\n",
    "    \n",
    "        c=0\n",
    "        \n",
    "        out=df[(df[col]<lower_bound) | (df[col]>upper_bound)]\n",
    "    \n",
    "        print(f\"{col}:{len(out)}\")"
   ]
  },
  {
   "cell_type": "code",
   "execution_count": 46,
   "id": "32873bd9-ce15-45ff-84b3-36bc205f11f0",
   "metadata": {},
   "outputs": [
    {
     "name": "stdout",
     "output_type": "stream",
     "text": [
      "price:250\n",
      "bedrooms:118\n",
      "bathrooms:102\n",
      "sqft_living:134\n",
      "sqft_lot:545\n",
      "sqft_above:121\n",
      "sqft_basement:82\n",
      "yr_built:0\n",
      "yr_renovated:0\n",
      "year:0\n",
      "month:0\n",
      "day:0\n"
     ]
    }
   ],
   "source": [
    "count_outlier(df)"
   ]
  },
  {
   "cell_type": "markdown",
   "id": "02290be1-90da-4827-b9cf-1f66aff3fa30",
   "metadata": {},
   "source": [
    " "
   ]
  },
  {
   "cell_type": "markdown",
   "id": "8a7c1564-40c6-45e8-900f-f2c92464273e",
   "metadata": {},
   "source": [
    "FIILLING OUTLIERS"
   ]
  },
  {
   "cell_type": "code",
   "execution_count": 47,
   "id": "4e433548-649d-47ba-9fb5-da89f70f0680",
   "metadata": {},
   "outputs": [],
   "source": [
    "for i in range(10):\n",
    "    for col in num_cols.columns:\n",
    "        q3=df[col].quantile(0.75)\n",
    "        q1=df[col].quantile(0.25)\n",
    "        iqr=q3-q1\n",
    "        lower_bound=q1-1.5*iqr\n",
    "        upper_bound=q3+1.5*iqr\n",
    "        \n",
    "        med_val=df[col].median()\n",
    "        \n",
    "        df.loc[(df[col]<lower_bound) | (df[col]>upper_bound),col]=round(med_val,0)\n",
    "\n"
   ]
  },
  {
   "cell_type": "code",
   "execution_count": 48,
   "id": "2093817f-d520-485d-9e30-fc165b7cc6e8",
   "metadata": {},
   "outputs": [
    {
     "data": {
      "text/plain": [
       "<Axes: >"
      ]
     },
     "execution_count": 48,
     "metadata": {},
     "output_type": "execute_result"
    },
    {
     "data": {
      "image/png": "[encoded data removed]",
      "text/plain": [
       "<Figure size 2000x600 with 1 Axes>"
      ]
     },
     "metadata": {},
     "output_type": "display_data"
    }
   ],
   "source": [
    "plt.figure(figsize=(20, 6))\n",
    "df.boxplot(column=['price', 'bedrooms', 'bathrooms', 'sqft_living', 'sqft_lot',\n",
    "       'sqft_above','sqft_basement', 'yr_built', 'yr_renovated']) "
   ]
  },
  {
   "cell_type": "code",
   "execution_count": 49,
   "id": "f33aa911-d58e-4ff9-a947-25ec39744e7c",
   "metadata": {},
   "outputs": [
    {
     "name": "stdout",
     "output_type": "stream",
     "text": [
      "price:0\n",
      "bedrooms:0\n",
      "bathrooms:0\n",
      "sqft_living:0\n",
      "sqft_lot:0\n",
      "sqft_above:0\n",
      "sqft_basement:0\n",
      "yr_built:0\n",
      "yr_renovated:0\n",
      "year:0\n",
      "month:0\n",
      "day:0\n"
     ]
    }
   ],
   "source": [
    "count_outlier(df)"
   ]
  },
  {
   "cell_type": "markdown",
   "id": "ca750140-7c23-465d-922f-a5df36478a79",
   "metadata": {},
   "source": [
    " "
   ]
  },
  {
   "cell_type": "code",
   "execution_count": 50,
   "id": "e3553362-bf26-48e4-aa13-99c4e7cd77f4",
   "metadata": {},
   "outputs": [],
   "source": [
    "df.to_csv('house_clean.csv',index=False)"
   ]
  },
  {
   "cell_type": "code",
   "execution_count": null,
   "id": "6c56721b-e1ab-4a5a-a17f-f009563cb5d8",
   "metadata": {},
   "outputs": [],
   "source": []
  }
 ],
 "metadata": {
  "kernelspec": {
   "display_name": "Python 3 (ipykernel)",
   "language": "python",
   "name": "python3"
  },
  "language_info": {
   "codemirror_mode": {
    "name": "ipython",
    "version": 3
   },
   "file_extension": ".py",
   "mimetype": "text/x-python",
   "name": "python",
   "nbconvert_exporter": "python",
   "pygments_lexer": "ipython3",
   "version": "3.10.0"
  }
 },
 "nbformat": 4,
 "nbformat_minor": 5
}
