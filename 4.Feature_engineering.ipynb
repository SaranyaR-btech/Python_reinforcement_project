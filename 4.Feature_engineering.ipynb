{
 "cells": [
  {
   "cell_type": "code",
   "execution_count": 5,
   "id": "fa0378c5-000d-4a6b-afc8-bffdc482f581",
   "metadata": {},
   "outputs": [],
   "source": [
    "import pandas as pd\n",
    "import matplotlib.pyplot as plt\n",
    "import seaborn as sns\n",
    "\n",
    "df=pd.read_csv('house_clean.csv')"
   ]
  },
  {
   "cell_type": "markdown",
   "id": "03cca654-8f0b-4b99-8b56-5559768aaa46",
   "metadata": {},
   "source": [
    " "
   ]
  },
  {
   "cell_type": "markdown",
   "id": "08b4eca6-4333-47d5-aa83-49543c8e1a86",
   "metadata": {},
   "source": [
    " "
   ]
  },
  {
   "cell_type": "markdown",
   "id": "4159a1b2-e588-4695-91ce-ac7e3c042edc",
   "metadata": {},
   "source": [
    " "
   ]
  },
  {
   "cell_type": "markdown",
   "id": "66b9eeba-fb1d-477c-8da5-e0dbf3e381e3",
   "metadata": {},
   "source": [
    "FIND AGE OF THE HOUSE"
   ]
  },
  {
   "cell_type": "code",
   "execution_count": 6,
   "id": "5219a679-4182-49a9-a009-280619a16b4b",
   "metadata": {},
   "outputs": [],
   "source": [
    "df['age']=2025-df['yr_built']"
   ]
  },
  {
   "cell_type": "markdown",
   "id": "22d3d8eb-6934-4b8e-a81d-673c290ed48e",
   "metadata": {},
   "source": [
    " "
   ]
  },
  {
   "cell_type": "markdown",
   "id": "de132c34-5f1e-49ac-9a18-9744caea85b0",
   "metadata": {},
   "source": [
    "FIND PRICE PER SQFT"
   ]
  },
  {
   "cell_type": "code",
   "execution_count": 7,
   "id": "df784b2d-93e3-435b-af4e-44453c338f6a",
   "metadata": {},
   "outputs": [],
   "source": [
    "df['price_per_sqft'] =(df['price'] / df['sqft_living']).round(2)"
   ]
  },
  {
   "cell_type": "markdown",
   "id": "4066317e-7da7-4d6b-8ef5-45fad5abe376",
   "metadata": {},
   "source": [
    " "
   ]
  },
  {
   "cell_type": "markdown",
   "id": "069cc977-0a17-420c-bcc8-1ad9bad54402",
   "metadata": {},
   "source": [
    "   "
   ]
  },
  {
   "cell_type": "code",
   "execution_count": 8,
   "id": "75b529dd-45c4-4d11-9077-f3fa095d6dfc",
   "metadata": {},
   "outputs": [
    {
     "data": {
      "text/html": [
       "<div>\n",
       "<style scoped>\n",
       "    .dataframe tbody tr th:only-of-type {\n",
       "        vertical-align: middle;\n",
       "    }\n",
       "\n",
       "    .dataframe tbody tr th {\n",
       "        vertical-align: top;\n",
       "    }\n",
       "\n",
       "    .dataframe thead th {\n",
       "        text-align: right;\n",
       "    }\n",
       "</style>\n",
       "<table border=\"1\" class=\"dataframe\">\n",
       "  <thead>\n",
       "    <tr style=\"text-align: right;\">\n",
       "      <th></th>\n",
       "      <th>date</th>\n",
       "      <th>price</th>\n",
       "      <th>bedrooms</th>\n",
       "      <th>bathrooms</th>\n",
       "      <th>sqft_living</th>\n",
       "      <th>sqft_lot</th>\n",
       "      <th>floors</th>\n",
       "      <th>waterfront</th>\n",
       "      <th>view</th>\n",
       "      <th>condition</th>\n",
       "      <th>...</th>\n",
       "      <th>yr_renovated</th>\n",
       "      <th>street</th>\n",
       "      <th>city</th>\n",
       "      <th>statezip</th>\n",
       "      <th>country</th>\n",
       "      <th>year</th>\n",
       "      <th>month</th>\n",
       "      <th>day</th>\n",
       "      <th>age</th>\n",
       "      <th>price_per_sqft</th>\n",
       "    </tr>\n",
       "  </thead>\n",
       "  <tbody>\n",
       "    <tr>\n",
       "      <th>0</th>\n",
       "      <td>2014-05-02</td>\n",
       "      <td>313000.0</td>\n",
       "      <td>3</td>\n",
       "      <td>1</td>\n",
       "      <td>1340.0</td>\n",
       "      <td>7560.0</td>\n",
       "      <td>1</td>\n",
       "      <td>no</td>\n",
       "      <td>No</td>\n",
       "      <td>average</td>\n",
       "      <td>...</td>\n",
       "      <td>2005</td>\n",
       "      <td>18810 Densmore Ave N</td>\n",
       "      <td>Shoreline</td>\n",
       "      <td>WA 98133</td>\n",
       "      <td>USA</td>\n",
       "      <td>2014</td>\n",
       "      <td>5</td>\n",
       "      <td>2</td>\n",
       "      <td>70</td>\n",
       "      <td>233.58</td>\n",
       "    </tr>\n",
       "    <tr>\n",
       "      <th>1</th>\n",
       "      <td>2014-05-02</td>\n",
       "      <td>469000.0</td>\n",
       "      <td>5</td>\n",
       "      <td>2</td>\n",
       "      <td>3650.0</td>\n",
       "      <td>9466.5</td>\n",
       "      <td>2</td>\n",
       "      <td>no</td>\n",
       "      <td>excellent</td>\n",
       "      <td>excellent</td>\n",
       "      <td>...</td>\n",
       "      <td>0</td>\n",
       "      <td>709 W Blaine St</td>\n",
       "      <td>Seattle</td>\n",
       "      <td>WA 98119</td>\n",
       "      <td>USA</td>\n",
       "      <td>2014</td>\n",
       "      <td>5</td>\n",
       "      <td>2</td>\n",
       "      <td>104</td>\n",
       "      <td>128.49</td>\n",
       "    </tr>\n",
       "    <tr>\n",
       "      <th>2</th>\n",
       "      <td>2014-05-02</td>\n",
       "      <td>342000.0</td>\n",
       "      <td>3</td>\n",
       "      <td>2</td>\n",
       "      <td>1930.0</td>\n",
       "      <td>7560.0</td>\n",
       "      <td>1</td>\n",
       "      <td>no</td>\n",
       "      <td>No</td>\n",
       "      <td>good</td>\n",
       "      <td>...</td>\n",
       "      <td>0</td>\n",
       "      <td>26206-26214 143rd Ave SE</td>\n",
       "      <td>Kent</td>\n",
       "      <td>WA 98042</td>\n",
       "      <td>USA</td>\n",
       "      <td>2014</td>\n",
       "      <td>5</td>\n",
       "      <td>2</td>\n",
       "      <td>59</td>\n",
       "      <td>177.20</td>\n",
       "    </tr>\n",
       "    <tr>\n",
       "      <th>3</th>\n",
       "      <td>2014-05-02</td>\n",
       "      <td>420000.0</td>\n",
       "      <td>3</td>\n",
       "      <td>2</td>\n",
       "      <td>2000.0</td>\n",
       "      <td>7560.0</td>\n",
       "      <td>1</td>\n",
       "      <td>no</td>\n",
       "      <td>No</td>\n",
       "      <td>good</td>\n",
       "      <td>...</td>\n",
       "      <td>0</td>\n",
       "      <td>857 170th Pl NE</td>\n",
       "      <td>Bellevue</td>\n",
       "      <td>WA 98008</td>\n",
       "      <td>USA</td>\n",
       "      <td>2014</td>\n",
       "      <td>5</td>\n",
       "      <td>2</td>\n",
       "      <td>62</td>\n",
       "      <td>210.00</td>\n",
       "    </tr>\n",
       "    <tr>\n",
       "      <th>4</th>\n",
       "      <td>2014-05-02</td>\n",
       "      <td>550000.0</td>\n",
       "      <td>4</td>\n",
       "      <td>2</td>\n",
       "      <td>1940.0</td>\n",
       "      <td>8265.0</td>\n",
       "      <td>1</td>\n",
       "      <td>no</td>\n",
       "      <td>No</td>\n",
       "      <td>good</td>\n",
       "      <td>...</td>\n",
       "      <td>1992</td>\n",
       "      <td>9105 170th Ave NE</td>\n",
       "      <td>Redmond</td>\n",
       "      <td>WA 98052</td>\n",
       "      <td>USA</td>\n",
       "      <td>2014</td>\n",
       "      <td>5</td>\n",
       "      <td>2</td>\n",
       "      <td>49</td>\n",
       "      <td>283.51</td>\n",
       "    </tr>\n",
       "  </tbody>\n",
       "</table>\n",
       "<p>5 rows × 23 columns</p>\n",
       "</div>"
      ],
      "text/plain": [
       "         date     price  bedrooms  bathrooms  sqft_living  sqft_lot  floors  \\\n",
       "0  2014-05-02  313000.0         3          1       1340.0    7560.0       1   \n",
       "1  2014-05-02  469000.0         5          2       3650.0    9466.5       2   \n",
       "2  2014-05-02  342000.0         3          2       1930.0    7560.0       1   \n",
       "3  2014-05-02  420000.0         3          2       2000.0    7560.0       1   \n",
       "4  2014-05-02  550000.0         4          2       1940.0    8265.0       1   \n",
       "\n",
       "  waterfront       view  condition  ...  yr_renovated  \\\n",
       "0         no         No    average  ...          2005   \n",
       "1         no  excellent  excellent  ...             0   \n",
       "2         no         No       good  ...             0   \n",
       "3         no         No       good  ...             0   \n",
       "4         no         No       good  ...          1992   \n",
       "\n",
       "                     street       city  statezip country  year month day  age  \\\n",
       "0      18810 Densmore Ave N  Shoreline  WA 98133     USA  2014     5   2   70   \n",
       "1           709 W Blaine St    Seattle  WA 98119     USA  2014     5   2  104   \n",
       "2  26206-26214 143rd Ave SE       Kent  WA 98042     USA  2014     5   2   59   \n",
       "3           857 170th Pl NE   Bellevue  WA 98008     USA  2014     5   2   62   \n",
       "4         9105 170th Ave NE    Redmond  WA 98052     USA  2014     5   2   49   \n",
       "\n",
       "   price_per_sqft  \n",
       "0          233.58  \n",
       "1          128.49  \n",
       "2          177.20  \n",
       "3          210.00  \n",
       "4          283.51  \n",
       "\n",
       "[5 rows x 23 columns]"
      ]
     },
     "execution_count": 8,
     "metadata": {},
     "output_type": "execute_result"
    }
   ],
   "source": [
    "df.head()"
   ]
  },
  {
   "cell_type": "code",
   "execution_count": null,
   "id": "c83b7f28-c972-4061-8bab-b7e8517dca57",
   "metadata": {},
   "outputs": [],
   "source": []
  },
  {
   "cell_type": "code",
   "execution_count": 9,
   "id": "c445f1d8-f26c-4895-8153-35436514c09b",
   "metadata": {},
   "outputs": [],
   "source": [
    "df.to_csv('house_clean.csv',index=False)"
   ]
  },
  {
   "cell_type": "code",
   "execution_count": null,
   "id": "efe857a1-db9c-49d4-af46-21fb75b8276b",
   "metadata": {},
   "outputs": [],
   "source": []
  },
  {
   "cell_type": "code",
   "execution_count": null,
   "id": "7d6ec27b-6351-42d9-8c82-70a98fa39306",
   "metadata": {},
   "outputs": [],
   "source": []
  }
 ],
 "metadata": {
  "kernelspec": {
   "display_name": "Python 3 (ipykernel)",
   "language": "python",
   "name": "python3"
  },
  "language_info": {
   "codemirror_mode": {
    "name": "ipython",
    "version": 3
   },
   "file_extension": ".py",
   "mimetype": "text/x-python",
   "name": "python",
   "nbconvert_exporter": "python",
   "pygments_lexer": "ipython3",
   "version": "3.10.0"
  }
 },
 "nbformat": 4,
 "nbformat_minor": 5
}
