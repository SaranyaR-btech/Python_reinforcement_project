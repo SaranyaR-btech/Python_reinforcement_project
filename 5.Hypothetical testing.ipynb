{
 "cells": [
  {
   "cell_type": "code",
   "execution_count": 1,
   "id": "6ac07a8d-5035-465b-81c1-4f72e0c56b89",
   "metadata": {},
   "outputs": [],
   "source": [
    "import pandas as pd\n",
    "from scipy import stats\n",
    "import numpy as np"
   ]
  },
  {
   "cell_type": "code",
   "execution_count": 2,
   "id": "c1db1269-c67a-4a06-b012-040d1d898409",
   "metadata": {},
   "outputs": [],
   "source": [
    "df=pd.read_csv('house_clean.csv')"
   ]
  },
  {
   "cell_type": "markdown",
   "id": "88b91df9-dc56-4aca-84f3-e30e64e4068e",
   "metadata": {},
   "source": [
    " "
   ]
  },
  {
   "cell_type": "markdown",
   "id": "85aa3240-b659-4e60-9089-f3d3f1cb47d1",
   "metadata": {},
   "source": [
    "  "
   ]
  },
  {
   "cell_type": "markdown",
   "id": "f74616b1-902f-4a26-8a1c-79d41766fea7",
   "metadata": {},
   "source": [
    "                                                            ONE SAMPLE T-TEST\n",
    "                                                  ---*---*---*---*---*---*---*---*---*---"
   ]
  },
  {
   "cell_type": "markdown",
   "id": "0264f8c5-920f-443e-9ba9-cb894f72ae83",
   "metadata": {},
   "source": [
    "  "
   ]
  },
  {
   "cell_type": "code",
   "execution_count": 4,
   "id": "22e07996-0d94-4b6f-936b-5c793d23eb60",
   "metadata": {},
   "outputs": [
    {
     "name": "stdout",
     "output_type": "stream",
     "text": [
      "464707.0\n"
     ]
    }
   ],
   "source": [
    "price = df['price']\n",
    "mean_price = np.mean(price)\n",
    "print(round(mean_price,0))"
   ]
  },
  {
   "cell_type": "code",
   "execution_count": 5,
   "id": "8e40a1b9-f9fd-4746-a6d7-86f4e900ed22",
   "metadata": {},
   "outputs": [
    {
     "data": {
      "text/plain": [
       "array([798000., 469000., 570000., 334000., 270000., 225000., 480000.,\n",
       "       223000., 274500., 493000., 555000., 500000., 275000., 469000.,\n",
       "       744000., 490000., 309212., 457500., 280000., 202000., 401000.,\n",
       "       405000., 349900., 295000., 562500.])"
      ]
     },
     "execution_count": 5,
     "metadata": {},
     "output_type": "execute_result"
    }
   ],
   "source": [
    "np.random.seed(11)\n",
    "sample_size = 25\n",
    "sample_price= np.random.choice(price,sample_size)\n",
    "sample_price"
   ]
  },
  {
   "cell_type": "code",
   "execution_count": 6,
   "id": "c7ce65e4-6941-4d3b-a756-6a13965d5beb",
   "metadata": {},
   "outputs": [],
   "source": [
    "t_value,p_value = stats.ttest_1samp(a=sample_price,popmean=mean_price)"
   ]
  },
  {
   "cell_type": "code",
   "execution_count": 12,
   "id": "6e7b72ff-9c4a-47bf-b126-6135b870d8e9",
   "metadata": {},
   "outputs": [
    {
     "name": "stdout",
     "output_type": "stream",
     "text": [
      "SUMMARY OF ONE_SAMPLE_T-TEST\n",
      "**********************\n",
      "p_value: 0.14159704101525317\n",
      "t_statistics: -1.5199193949289218\n",
      "conclusion: \n",
      "Result: Fail to reject H0 → No significant difference\n",
      "**********************\n"
     ]
    }
   ],
   "source": [
    "print(\"SUMMARY OF ONE_SAMPLE_T-TEST\")\n",
    "print(\"**********************\")\n",
    "print(\"p_value:\",p_value)\n",
    "print(\"t_statistics:\",t_value)\n",
    "if p_value<0.05:\n",
    "    print(\"conclusion: \")\n",
    "    print(\"Result: Reject H0 → Mean price is significantly difference\")\n",
    "else:\n",
    "    print(\"conclusion: \")\n",
    "    print(\"Result: Fail to reject H0 → No significant difference\")\n",
    "print(\"**********************\")"
   ]
  },
  {
   "cell_type": "markdown",
   "id": "3f037705-b1d6-42c8-a7fe-0280edf86640",
   "metadata": {},
   "source": [
    "   "
   ]
  },
  {
   "cell_type": "markdown",
   "id": "eb9d547c-2a94-41e9-a0d9-893fbb12d4d0",
   "metadata": {},
   "source": [
    "  "
   ]
  },
  {
   "cell_type": "markdown",
   "id": "248808ca-1247-4ceb-93a6-910c412cde72",
   "metadata": {},
   "source": [
    " "
   ]
  },
  {
   "cell_type": "markdown",
   "id": "332113d2-416e-484e-b96b-04fbd6c07ffb",
   "metadata": {},
   "source": [
    "                                                            TWO SAMPLE T-TEST\n",
    "                                                  ---*---*---*---*---*---*---*---*---*---"
   ]
  },
  {
   "cell_type": "code",
   "execution_count": 25,
   "id": "2bf9d7cd-17cf-4030-8a26-017440ba0044",
   "metadata": {},
   "outputs": [
    {
     "name": "stdout",
     "output_type": "stream",
     "text": [
      "SUMMARY OF TWO_SAMPLE_T-TEST\n",
      "****************************\n",
      "Mean price (if waterfront): 512949.8467781818\n",
      "Mean price (if no waterfront): 464358.711680854\n",
      "Z-score: 2.92620831122721\n",
      "p-value: 0.0034312110052354683\n",
      "Reject H0: Mean prices are significantly different between the two groups.\n",
      "****************************\n"
     ]
    }
   ],
   "source": [
    "\n",
    "sample_1 = df[df[\"waterfront\"] == 'yes'][\"price\"]\n",
    "sample_2 = df[df[\"waterfront\"] == 'no'][\"price\"]\n",
    "\n",
    "sample1_mean = sample_1.mean()\n",
    "sample2_mean = sample_2.mean()\n",
    "sample1_std = sample_1.std(ddof=1)\n",
    "sample2_std = sample_2.std(ddof=1)\n",
    "\n",
    "\n",
    "sample1_n = len(sample_1)\n",
    "sample2_n = len(sample_2)\n",
    "\n",
    "\n",
    "z = (sample1_mean - sample2_mean) / np.sqrt((sample1_std**2 / sample1_n) + (sample2_std**2 / sample2_n))\n",
    "\n",
    "\n",
    "p = 2 * (1 - stats.norm.cdf(abs(z)))\n",
    "\n",
    "\n",
    "print(\"SUMMARY OF TWO_SAMPLE_T-TEST\")\n",
    "print(\"****************************\")\n",
    "print(\"Mean price (if waterfront):\", sample1_mean)\n",
    "print(\"Mean price (if no waterfront):\", sample2_mean)\n",
    "print(\"Z-score:\", z)\n",
    "print(\"p-value:\", p)\n",
    "\n",
    "alpha = 0.05\n",
    "if p < alpha:\n",
    "    print(\"Reject H0: Mean prices are significantly different between the two groups.\")\n",
    "else:\n",
    "    print(\"Fail to reject H0: Mean prices are not significantly different between the two groups.\")\n",
    "print(\"****************************\")\n"
   ]
  },
  {
   "cell_type": "markdown",
   "id": "ecabfcd4-b69a-4196-bcd7-cbe8591bdd23",
   "metadata": {},
   "source": [
    " "
   ]
  },
  {
   "cell_type": "markdown",
   "id": "a0207c70-5fb5-4f82-a89e-8cd2172b9721",
   "metadata": {},
   "source": [
    " "
   ]
  },
  {
   "cell_type": "markdown",
   "id": "95cb0db3-b9c5-4d57-9492-3cf105c744b6",
   "metadata": {},
   "source": [
    " "
   ]
  },
  {
   "cell_type": "markdown",
   "id": "a6979b5f-c44b-4bcb-a24e-4f484e5fe77b",
   "metadata": {},
   "source": [
    "                                                              ONE WAY ANOVA\n",
    "                                                  ---*---*---*---*---*---*---*---*---*---"
   ]
  },
  {
   "cell_type": "code",
   "execution_count": 30,
   "id": "11fa9cea-ac08-4e04-943f-6f7b1ce4bcf1",
   "metadata": {},
   "outputs": [
    {
     "name": "stdout",
     "output_type": "stream",
     "text": [
      "SUMMARY OF ONE WAY ANOVA\n",
      "****************************\n",
      "F-statistic = 18.5552, p-value = 0.0000\n",
      "Result: Reject H₀ → At least one condition group has a different mean price.\n",
      "\n"
     ]
    }
   ],
   "source": [
    "anova_data = [group['price'].dropna() for name, group in df.groupby('condition')]\n",
    "f_stat, p_val3 = stats.f_oneway(*anova_data)\n",
    "\n",
    "print(\"SUMMARY OF ONE WAY ANOVA\")\n",
    "print(\"****************************\")\n",
    "print(f\"F-statistic = {f_stat:.4f}, p-value = {p_val3:.4f}\")\n",
    "if p_val3 <= alpha:\n",
    "    print(\"Result: Reject H₀ → At least one condition group has a different mean price.\\n\")\n",
    "else:\n",
    "    print(\"Result: Fail to reject H₀ → No significant difference among condition groups.\\n\")\n"
   ]
  },
  {
   "cell_type": "markdown",
   "id": "c6a45d17-124b-414f-bea5-1eac15642a4f",
   "metadata": {},
   "source": [
    " "
   ]
  },
  {
   "cell_type": "markdown",
   "id": "8edb51e9-d0ad-46a6-a845-4508bfc06460",
   "metadata": {},
   "source": [
    " "
   ]
  },
  {
   "cell_type": "markdown",
   "id": "9f30262a-c6f1-4945-90e6-8313a1e40ec2",
   "metadata": {},
   "source": [
    "  "
   ]
  },
  {
   "cell_type": "markdown",
   "id": "eac4b4fd-819e-403a-a786-53dca8f15f2c",
   "metadata": {},
   "source": [
    "                                                              CHI-SQUARE TEST\n",
    "                                                  ---*---*---*---*---*---*---*---*---*---"
   ]
  },
  {
   "cell_type": "markdown",
   "id": "4709a9dc-3950-4539-a3b6-267b1f5e7cdc",
   "metadata": {},
   "source": [
    " "
   ]
  },
  {
   "cell_type": "code",
   "execution_count": 32,
   "id": "3a9f81f6-d6da-4174-8d9f-db9e369743c4",
   "metadata": {},
   "outputs": [
    {
     "name": "stdout",
     "output_type": "stream",
     "text": [
      "contingency_table waterfront    no  yes\n",
      "view                 \n",
      "No          4140    0\n",
      "average      200    5\n",
      "excellent     47   23\n",
      "good         111    5\n",
      "poor          69    0\n",
      "Chi-square statistic: 1075.17417766193\n",
      "p-value: 1.8203282810536785e-231\n",
      "Degrees of freedom: 4\n",
      "expected frequencie [[4.11030000e+03 2.97000000e+01]\n",
      " [2.03529348e+02 1.47065217e+00]\n",
      " [6.94978261e+01 5.02173913e-01]\n",
      " [1.15167826e+02 8.32173913e-01]\n",
      " [6.85050000e+01 4.95000000e-01]]\n",
      "Reject the null hypothesis - variables are not independent\n"
     ]
    }
   ],
   "source": [
    "from scipy.stats import chi2_contingency\n",
    "\n",
    "house= pd.read_csv('house_clean.csv')\n",
    "\n",
    "\n",
    "\n",
    "contingency_table = pd.crosstab(house['view'],house['waterfront'])\n",
    "\n",
    "chi2, p, dof, expected = chi2_contingency(contingency_table)\n",
    "\n",
    "print(\"contingency_table\", contingency_table)\n",
    "print(\"Chi-square statistic:\", chi2)\n",
    "print(\"p-value:\", p)\n",
    "print(\"Degrees of freedom:\", dof)\n",
    "print('expected frequencie',expected)\n",
    "\n",
    "if p < 0.05:\n",
    "    print(\"Reject the null hypothesis - variables are not independent\")\n",
    "else:\n",
    "    print(\"Fail to reject the null hypothesis - variables are independent\")"
   ]
  },
  {
   "cell_type": "code",
   "execution_count": null,
   "id": "0b5360d8-1895-4e55-8d38-83c2dc208c4a",
   "metadata": {},
   "outputs": [],
   "source": []
  }
 ],
 "metadata": {
  "kernelspec": {
   "display_name": "Python 3 (ipykernel)",
   "language": "python",
   "name": "python3"
  },
  "language_info": {
   "codemirror_mode": {
    "name": "ipython",
    "version": 3
   },
   "file_extension": ".py",
   "mimetype": "text/x-python",
   "name": "python",
   "nbconvert_exporter": "python",
   "pygments_lexer": "ipython3",
   "version": "3.10.0"
  }
 },
 "nbformat": 4,
 "nbformat_minor": 5
}
